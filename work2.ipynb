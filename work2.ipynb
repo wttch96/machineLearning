{
 "cells": [
  {
   "cell_type": "markdown",
   "source": [
    "$$\n",
    "\\int_{0}^{3} \\cos^{2} (e^{x}) \\mathrm{d}x \n",
    "$$"
   ],
   "metadata": {
    "collapsed": false
   },
   "id": "b53b6ab4db67da20"
  },
  {
   "cell_type": "code",
   "execution_count": 17,
   "outputs": [
    {
     "data": {
      "text/plain": "(1.296467785724373, 1.397797106902389e-09)"
     },
     "execution_count": 17,
     "metadata": {},
     "output_type": "execute_result"
    }
   ],
   "source": [
    "import numpy as np\n",
    "from scipy.integrate import quad, dblquad\n",
    "\n",
    "# 定义被积分函数\n",
    "func = lambda x: np.cos(np.exp(x)) ** 2\n",
    "solution = quad(func, 0, 3)\n",
    "\n",
    "solution"
   ],
   "metadata": {
    "collapsed": false,
    "ExecuteTime": {
     "start_time": "2023-09-22T07:31:04.236018Z"
    }
   },
   "id": "e4719a711931ac4"
  },
  {
   "cell_type": "markdown",
   "source": [
    "$$\n",
    "\\int_{1}^{2} x^2 + \\frac{1}{x^4} \\mathrm{d}x\n",
    "$$"
   ],
   "metadata": {
    "collapsed": false
   },
   "id": "d3b7528e1c7d612d"
  },
  {
   "cell_type": "code",
   "execution_count": 35,
   "outputs": [
    {
     "data": {
      "text/plain": "(2.625, 2.914335439641036e-14)"
     },
     "execution_count": 35,
     "metadata": {},
     "output_type": "execute_result"
    }
   ],
   "source": [
    "def func(x):\n",
    "    return x ** 2 + x ** -4\n",
    "\n",
    "solution = quad(func, 1, 2)\n",
    "\n",
    "solution"
   ],
   "metadata": {
    "collapsed": false,
    "ExecuteTime": {
     "end_time": "2023-09-22T08:14:27.657101Z",
     "start_time": "2023-09-22T08:14:27.648883Z"
    }
   },
   "id": "f0f56bdf9990c09d"
  },
  {
   "cell_type": "code",
   "execution_count": 36,
   "outputs": [
    {
     "data": {
      "text/plain": "(1.7853981633974483, 1.9821901491273144e-14)"
     },
     "execution_count": 36,
     "metadata": {},
     "output_type": "execute_result"
    }
   ],
   "source": [
    "def func(x):\n",
    "    return (3 * x ** 4 + 3 * x ** 2 + 1) / (x ** 2 + 1)\n",
    "\n",
    "solution = quad(func, -1, 0)\n",
    "\n",
    "solution"
   ],
   "metadata": {
    "collapsed": false,
    "ExecuteTime": {
     "end_time": "2023-09-22T08:15:41.444150Z",
     "start_time": "2023-09-22T08:15:41.432942Z"
    }
   },
   "id": "73ee94330e9926cf"
  },
  {
   "cell_type": "code",
   "execution_count": 26,
   "outputs": [
    {
     "data": {
      "text/plain": "(0.7853981633974476, 1.3753098510206357e-08)"
     },
     "execution_count": 26,
     "metadata": {},
     "output_type": "execute_result"
    }
   ],
   "source": [
    "def integrand(x, y):\n",
    "    return np.exp(- x ** 2 - y ** 2)\n",
    "\n",
    "x_a, x_b = 0, 10\n",
    "y_a, y_b = 0, 10\n",
    "\n",
    "# 积分, 误差\n",
    "solution, abs_err = dblquad(integrand, x_a, x_b, lambda _: y_a, lambda _: y_b)\n",
    "\n",
    "solution, abs_err"
   ],
   "metadata": {
    "collapsed": false,
    "ExecuteTime": {
     "end_time": "2023-09-22T07:35:00.063192Z",
     "start_time": "2023-09-22T07:35:00.056398Z"
    }
   },
   "id": "159e4a77efa266a7"
  },
  {
   "cell_type": "code",
   "execution_count": 19,
   "outputs": [
    {
     "data": {
      "text/plain": "(1.2960750567338157, 1.2843391540917448)"
     },
     "execution_count": 19,
     "metadata": {},
     "output_type": "execute_result"
    }
   ],
   "source": [
    "a, b = 0, 3\n",
    "\n",
    "def f(x):\n",
    "    return np.cos(np.exp(x)) ** 2\n",
    "\n",
    "\n",
    "def trape(n):\n",
    "    h = (b - a) / n\n",
    "    x = a\n",
    "    sum = 0\n",
    "    for i in range(1, n):\n",
    "        x2 = a + i * h\n",
    "        sum = sum + (f(x) + f(x2)) * h / 2\n",
    "        x = x2\n",
    "\n",
    "    \n",
    "    return sum\n",
    "\n",
    "trape(1000), trape(100)\n"
   ],
   "metadata": {
    "collapsed": false,
    "ExecuteTime": {
     "end_time": "2023-09-22T07:31:04.269336Z",
     "start_time": "2023-09-22T07:31:04.265360Z"
    }
   },
   "id": "45343ffa16daf8b1"
  },
  {
   "cell_type": "markdown",
   "source": [
    "$$\n",
    "e^x = 1 + x + \\frac{x^2}{2!} + \\cdots + \\frac{x^n}{n!} + o(x^n)\n",
    "$$"
   ],
   "metadata": {
    "collapsed": false
   },
   "id": "5f806f2a1a9fedba"
  },
  {
   "cell_type": "code",
   "execution_count": 37,
   "outputs": [
    {
     "data": {
      "text/plain": "(1, 2.0, 2.7182818011463845, 2.7182818284590455)"
     },
     "execution_count": 37,
     "metadata": {},
     "output_type": "execute_result"
    }
   ],
   "source": [
    "import math\n",
    "\n",
    "def f(n):\n",
    "    sum1 = 1\n",
    "    if n == 0:\n",
    "        sum1 = 1\n",
    "    else:\n",
    "        for i in range(1, n + 1):\n",
    "            sum1 = sum1 + 1.0 / math.factorial(i)\n",
    "    return sum1\n",
    "\n",
    "\n",
    "f(0), f(1), f(10), f(100)"
   ],
   "metadata": {
    "collapsed": false,
    "ExecuteTime": {
     "end_time": "2023-09-22T08:18:04.861742Z",
     "start_time": "2023-09-22T08:18:04.851689Z"
    }
   },
   "id": "8c14328a8b7bc5a0"
  },
  {
   "cell_type": "code",
   "execution_count": 27,
   "outputs": [
    {
     "name": "stdout",
     "output_type": "stream",
     "text": [
      "-0.9129452507276277\n",
      "5364.411846163908\n",
      "-0.14987720966295234\n",
      "666.9943849552496\n",
      "0.7509872467716762\n",
      "74.73904231864935\n",
      "0.9613974918795568\n",
      "8.185042185068411\n",
      "0.2879033166650653\n",
      "0.8992826061194723\n",
      "-0.6502878401571168\n",
      "-0.6062488336234508\n",
      "-0.9906073556948704\n",
      "-0.9879667821076117\n",
      "-0.4201670368266409\n",
      "-0.420038770422337\n",
      "0.5365729180004349\n",
      "0.5365777985955943\n",
      "0.9999902065507035\n",
      "0.9999903459807044\n",
      "0.5440211108893698\n",
      "0.5440211137210484\n",
      "-0.4121184852417566\n",
      "-0.41211848520385463\n",
      "-0.9893582466233818\n",
      "-0.9893582466230959\n",
      "-0.6569865987187891\n",
      "-0.6569865987187856\n",
      "0.27941549819892586\n",
      "0.27941549819892936\n",
      "0.9589242746631385\n",
      "0.9589242746631357\n",
      "0.7568024953079283\n",
      "0.7568024953079275\n",
      "-0.1411200080598672\n",
      "-0.1411200080598671\n",
      "-0.9092974268256817\n",
      "-0.9092974268256817\n",
      "-0.8414709848078965\n",
      "-0.8414709848078965\n",
      "0.0\n",
      "0.0\n",
      "0.8414709848078965\n",
      "0.8414709848078965\n",
      "0.9092974268256817\n",
      "0.9092974268256817\n",
      "0.1411200080598672\n",
      "0.1411200080598671\n",
      "-0.7568024953079283\n",
      "-0.7568024953079275\n",
      "-0.9589242746631385\n",
      "-0.9589242746631357\n",
      "-0.27941549819892586\n",
      "-0.27941549819892936\n",
      "0.6569865987187891\n",
      "0.6569865987187856\n",
      "0.9893582466233818\n",
      "0.9893582466230959\n",
      "0.4121184852417566\n",
      "0.41211848520385463\n",
      "-0.5440211108893698\n",
      "-0.5440211137210484\n",
      "-0.9999902065507035\n",
      "-0.9999903459807044\n",
      "-0.5365729180004349\n",
      "-0.5365777985955943\n",
      "0.4201670368266409\n",
      "0.420038770422337\n",
      "0.9906073556948704\n",
      "0.9879667821076117\n",
      "0.6502878401571168\n",
      "0.6062488336234508\n",
      "-0.2879033166650653\n",
      "-0.8992826061194723\n",
      "-0.9613974918795568\n",
      "-8.185042185068411\n",
      "-0.7509872467716762\n",
      "-74.73904231864935\n",
      "0.14987720966295234\n",
      "-666.9943849552496\n"
     ]
    }
   ],
   "source": [
    "def fsin(x):\n",
    "    m = 20\n",
    "    sum = 0.0\n",
    "    for i in range(1, m + 1):\n",
    "        n = 2 * i - 1\n",
    "        temp1, temp2, temp3 = 1, 1, 1\n",
    "        for j in range(1, i):\n",
    "            temp1 = - temp1\n",
    "        for j in range(1, n + 1):\n",
    "            temp2 = temp2 * x\n",
    "            temp3 = temp3 * j\n",
    "        sum = sum + temp1 * temp2 / temp3\n",
    "    return sum\n",
    "\n",
    "for i in range(-20, 20):\n",
    "    print(math.sin(i))\n",
    "    print(fsin(i))"
   ],
   "metadata": {
    "collapsed": false,
    "ExecuteTime": {
     "end_time": "2023-09-22T07:38:12.355061Z",
     "start_time": "2023-09-22T07:38:12.335928Z"
    }
   },
   "id": "f41cbd3913cc3912"
  },
  {
   "cell_type": "code",
   "execution_count": 40,
   "outputs": [
    {
     "name": "stdout",
     "output_type": "stream",
     "text": [
      "6 4 2 6912\n"
     ]
    }
   ],
   "source": [
    "import sympy as sp\n",
    "from sympy.abc import x, y, z, l\n",
    "\n",
    "f = (x ** 3) * (y ** 2) * z + l * (x + y + z - 12)\n",
    "\n",
    "dx = sp.diff(f, x)\n",
    "dy = sp.diff(f, y)\n",
    "dz = sp.diff(f, z)\n",
    "dl = sp.diff(f, l)\n",
    "\n",
    "solution = sp.solve([dx, dy, dz, dl], [x, y, z, l])\n",
    "\n",
    "for i in solution:\n",
    "    if i[-1] != 0:\n",
    "        x = i[0]\n",
    "        y = i[1]\n",
    "        z = i[2]\n",
    "        result = (x ** 3) * (y ** 2) * z\n",
    "        print(x, y, z, result)"
   ],
   "metadata": {
    "collapsed": false,
    "ExecuteTime": {
     "end_time": "2023-09-22T08:23:05.798641Z",
     "start_time": "2023-09-22T08:23:05.737631Z"
    }
   },
   "id": "1769fe69ac7ff471"
  },
  {
   "cell_type": "code",
   "execution_count": 47,
   "outputs": [
    {
     "name": "stdout",
     "output_type": "stream",
     "text": [
      "sqrt(2) sqrt(2) sqrt(2) 2*sqrt(2)\n",
      "-sqrt(2) -sqrt(2) -sqrt(2) -2*sqrt(2)\n"
     ]
    }
   ],
   "source": [
    "import sympy as sp\n",
    "from sympy.abc import x, y, z, l\n",
    "\n",
    "f = x * y * z + l * (x * y + y * z + x * z - 6)\n",
    "\n",
    "dx = sp.diff(f, x)\n",
    "dy = sp.diff(f, y)\n",
    "dz = sp.diff(f, z)\n",
    "dl = sp.diff(f, l)\n",
    "\n",
    "solution = sp.solve([dx, dy, dz, dl], [x, y, z, l])\n",
    "\n",
    "for i in solution:\n",
    "    if i[-1] != 0:\n",
    "        x = i[0]\n",
    "        y = i[1]\n",
    "        z = i[2]\n",
    "        result = x * y * z\n",
    "        print(x, y, z, result)"
   ],
   "metadata": {
    "collapsed": false,
    "ExecuteTime": {
     "end_time": "2023-09-22T08:31:50.247787Z",
     "start_time": "2023-09-22T08:31:50.240751Z"
    }
   },
   "id": "106494c3e96a84f6"
  },
  {
   "cell_type": "code",
   "execution_count": null,
   "outputs": [],
   "source": [],
   "metadata": {
    "collapsed": false
   },
   "id": "5469972a019975e8"
  }
 ],
 "metadata": {
  "kernelspec": {
   "display_name": "Python 3",
   "language": "python",
   "name": "python3"
  },
  "language_info": {
   "codemirror_mode": {
    "name": "ipython",
    "version": 2
   },
   "file_extension": ".py",
   "mimetype": "text/x-python",
   "name": "python",
   "nbconvert_exporter": "python",
   "pygments_lexer": "ipython2",
   "version": "2.7.6"
  }
 },
 "nbformat": 4,
 "nbformat_minor": 5
}
